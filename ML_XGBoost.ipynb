{
 "cells": [
  {
   "cell_type": "markdown",
   "metadata": {},
   "source": [
    "# XGBoost\n",
    "* La técnica de modelado más precisa para datos estructurados\n",
    "* En este tutorial, se creará y optimizará un modelo de Machine Learning con \"**gradient boosting**\" (aumento de gradiente).\n",
    "* Este método logra resultados de última generación en una variedad de conjuntos de datos."
   ]
  },
  {
   "cell_type": "markdown",
   "metadata": {},
   "source": [
    "## **Introducción**\n",
    "* Como ya sabemos, las predicciones con el método de **random forest**, logran un mejor rendimiento que un único **decision tree**  simplemente promediando las predicciones de muchos árboles de decisión.\n",
    "* El **método random forest** es un \"**método de conjunto**\".\n",
    "* Por definición, **los métodos de conjunto combinan las predicciones de varios modelos** (por ejemplo, varios árboles, en el caso de bosques aleatorios).\n",
    "* A continuación, examinamos otro método de conjunto llamado **gradient boosting** (aumento de gradiente).\n",
    "\n",
    "**gradient boosting**\n",
    "* El aumento de gradiente es un **método** que pasa por **ciclos** para agregar modelos de **forma iterativa** a un conjunto.\n",
    "\n",
    "* 0. Comienza **inicializando el conjunto con un único modelo**, cuyas predicciones pueden ser bastante ingenuas. (Incluso si sus predicciones son tremendamente inexactas, las adiciones posteriores al conjunto abordarán esos errores).\n",
    "* Luego, **iniciamos el ciclo**:\n",
    "* 1. Primero, utilizamos el conjunto actual para **generar predicciones** para cada observación en el conjunto de datos.\n",
    "  * 1.1 Para hacer una predicción, sumamos las predicciones de todos los modelos del conjunto.\n",
    "  * 1.2 Estas predicciones se utilizan para **calcular una función de pérdida / loss function** (como el error cuadrático medio, por ejemplo).\n",
    "* 2. Luego, usamos la función de pérdida para **ajustar un nuevo modelo** que se agregará al conjunto.\n",
    "  * 2.1 Específicamente, **determinamos los parámetros del modelo** para que al **agregar este nuevo modelo al conjunto** reduzca la pérdida. (Nota al margen: el \"gradiente\" en \"aumento de gradiente\" se refiere al hecho de que usaremos el **descenso de gradiente** en la función de pérdida para determinar los parámetros en este nuevo modelo).\n",
    "  * 3. Finalmente, **agregamos el nuevo modelo al conjunto**, y...\n",
    "  * ... ¡repetir!\n",
    "\n",
    "Nota:\n",
    "\n",
    "* El **descenso de gradiente** es un método de optimización matemática sin restricciones .\n",
    "* Es un algoritmo iterativo de primer orden **para encontrar un mínimo local de una función multivariada diferenciable** .\n",
    "* La idea es dar pasos repetidos en la dirección opuesta al gradiente (o gradiente aproximado) de la función en el punto actual, porque esta es la dirección del descenso más pronunciado.\n",
    "* Por el contrario, avanzar en la dirección del gradiente conducirá a un máximo local de esa función; el procedimiento se conoce entonces como ascenso en gradiente .\n",
    "* Es particularmente útil en el aprendizaje automático para minimizar la función de costo o pérdida."
   ]
  },
  {
   "cell_type": "markdown",
   "metadata": {},
   "source": [
    "# Modelo de Machine Learning para estimar pecios de viviendas\n",
    "* Se utliza los datos de la Competencia de precios de vivienda para usuarios de Kaggle Learn(https://www.kaggle.com/c/home-data-for-ml-course), donde utilizará 79 variables explicativas diferentes (como el tipo de techo, la cantidad de dormitorios y la cantidad de baños) para predecir los precios de las viviendas."
   ]
  },
  {
   "cell_type": "code",
   "execution_count": 8,
   "metadata": {},
   "outputs": [],
   "source": [
    "import pandas as pd\n",
    "from sklearn.model_selection import train_test_split\n",
    "\n",
    "#Leer los datos\n",
    "X = pd.read_csv('train.csv', index_col='Id')\n",
    "X_test_full = pd.read_csv('test.csv', index_col='Id')\n",
    "\n",
    "# Eliminar filas con el objetivo faltante, separar el objetivo de los predictores\n",
    "X.dropna(axis=0, subset=['SalePrice'], inplace=True)\n",
    "y = X.SalePrice\n",
    "X.drop(['SalePrice'], axis=1, inplace=True)\n",
    "\n",
    "# Separar el conjunto de validación de los datos de entrenamiento\n",
    "X_train_full, X_valid_full, y_train, y_valid = train_test_split(X, y, train_size=0.8, test_size=0.2,\n",
    "                                                                random_state=0)\n",
    "\n",
    "# \"Cardinalidad\" significa la cantidad de valores únicos en una columna\n",
    "# Seleccione columnas categóricas con cardinalidad relativamente baja (conveniente pero arbitrario)\n",
    "low_cardinality_cols = [cname for cname in X_train_full.columns if X_train_full[cname].nunique() < 10 and\n",
    "                        X_train_full[cname].dtype == \"object\"]\n",
    "\n",
    "# Seleccionar columnas numéricas\n",
    "numeric_cols = [cname for cname in X_train_full.columns if X_train_full[cname].dtype in ['int64', 'float64']]\n",
    "\n",
    "# Mantener sólo las columnas seleccionadas\n",
    "my_cols = low_cardinality_cols + numeric_cols\n",
    "X_train = X_train_full[my_cols].copy()\n",
    "X_valid = X_valid_full[my_cols].copy()\n",
    "X_test = X_test_full[my_cols].copy()\n",
    "\n",
    "# Codificamos los datos one-hot (para acortar el código, usamos pandas)\n",
    "X_train = pd.get_dummies(X_train)\n",
    "X_valid = pd.get_dummies(X_valid)\n",
    "X_test = pd.get_dummies(X_test)\n",
    "X_train, X_valid = X_train.align(X_valid, join='left', axis=1)\n",
    "X_train, X_test = X_train.align(X_test, join='left', axis=1)"
   ]
  },
  {
   "cell_type": "code",
   "execution_count": 9,
   "metadata": {},
   "outputs": [
    {
     "name": "stdout",
     "output_type": "stream",
     "text": [
      "(1168, 226)\n",
      "LotFrontage    212\n",
      "GarageYrBlt     58\n",
      "MasVnrArea       6\n",
      "dtype: int64\n",
      "Existen 3 variables con valores nulos\n"
     ]
    }
   ],
   "source": [
    "# Numero de datos faltantes en cada columna\n",
    "print(X_train.shape)\n",
    "missing_val_count_by_column = (X_train.isnull().sum().sort_values(ascending = False))\n",
    "print(missing_val_count_by_column[missing_val_count_by_column > 0])\n",
    "print(f\"Existen {len(missing_val_count_by_column[missing_val_count_by_column > 0])} variables con valores nulos\")"
   ]
  },
  {
   "cell_type": "code",
   "execution_count": 10,
   "metadata": {},
   "outputs": [
    {
     "name": "stdout",
     "output_type": "stream",
     "text": [
      "Existen 36 columnas con valores numéricos\n",
      "Existen 40 columnas con valores categóricos y cardinalidad menor que 10\n"
     ]
    }
   ],
   "source": [
    "print(f\"Existen {len(numeric_cols)} columnas con valores numéricos\")\n",
    "print(f\"Existen {len(low_cardinality_cols)} columnas con valores categóricos y cardinalidad menor que 10\")"
   ]
  },
  {
   "cell_type": "markdown",
   "metadata": {},
   "source": [
    "* El dataframe se maneja con la totalidad de las variables numericas: 36 = float64(11) + int64(25).\n",
    "* Mientras que fueron eliminadas 3 variables categoricas por presentar cardinalidad mayor que 10.\n",
    "* Se maneja con 40 de un total inicial: object(43)\n",
    "* Existen 3 variables numéricas con valores nulos."
   ]
  },
  {
   "cell_type": "markdown",
   "metadata": {},
   "source": [
    "## Paso 1: construir modelo\n",
    "**Parte A**\n",
    "\n",
    "* En este paso, creará y entrenará su primer modelo con aumento de gradiente.\n",
    "* Se comienza configurando my_model_1 en un modelo XGBoost.\n",
    "* Se tiliza la clase XGBRegressor y se establece la semilla aleatoria en 0 (random_state=0).\n",
    "* Se dejan todos los demás parámetros por defecto.\n",
    "* Luego, se ajuste el modelo a los datos de entrenamiento en X_train e y_train."
   ]
  },
  {
   "cell_type": "code",
   "execution_count": 11,
   "metadata": {},
   "outputs": [
    {
     "data": {
      "text/html": [
       "<style>#sk-container-id-1 {color: black;}#sk-container-id-1 pre{padding: 0;}#sk-container-id-1 div.sk-toggleable {background-color: white;}#sk-container-id-1 label.sk-toggleable__label {cursor: pointer;display: block;width: 100%;margin-bottom: 0;padding: 0.3em;box-sizing: border-box;text-align: center;}#sk-container-id-1 label.sk-toggleable__label-arrow:before {content: \"▸\";float: left;margin-right: 0.25em;color: #696969;}#sk-container-id-1 label.sk-toggleable__label-arrow:hover:before {color: black;}#sk-container-id-1 div.sk-estimator:hover label.sk-toggleable__label-arrow:before {color: black;}#sk-container-id-1 div.sk-toggleable__content {max-height: 0;max-width: 0;overflow: hidden;text-align: left;background-color: #f0f8ff;}#sk-container-id-1 div.sk-toggleable__content pre {margin: 0.2em;color: black;border-radius: 0.25em;background-color: #f0f8ff;}#sk-container-id-1 input.sk-toggleable__control:checked~div.sk-toggleable__content {max-height: 200px;max-width: 100%;overflow: auto;}#sk-container-id-1 input.sk-toggleable__control:checked~label.sk-toggleable__label-arrow:before {content: \"▾\";}#sk-container-id-1 div.sk-estimator input.sk-toggleable__control:checked~label.sk-toggleable__label {background-color: #d4ebff;}#sk-container-id-1 div.sk-label input.sk-toggleable__control:checked~label.sk-toggleable__label {background-color: #d4ebff;}#sk-container-id-1 input.sk-hidden--visually {border: 0;clip: rect(1px 1px 1px 1px);clip: rect(1px, 1px, 1px, 1px);height: 1px;margin: -1px;overflow: hidden;padding: 0;position: absolute;width: 1px;}#sk-container-id-1 div.sk-estimator {font-family: monospace;background-color: #f0f8ff;border: 1px dotted black;border-radius: 0.25em;box-sizing: border-box;margin-bottom: 0.5em;}#sk-container-id-1 div.sk-estimator:hover {background-color: #d4ebff;}#sk-container-id-1 div.sk-parallel-item::after {content: \"\";width: 100%;border-bottom: 1px solid gray;flex-grow: 1;}#sk-container-id-1 div.sk-label:hover label.sk-toggleable__label {background-color: #d4ebff;}#sk-container-id-1 div.sk-serial::before {content: \"\";position: absolute;border-left: 1px solid gray;box-sizing: border-box;top: 0;bottom: 0;left: 50%;z-index: 0;}#sk-container-id-1 div.sk-serial {display: flex;flex-direction: column;align-items: center;background-color: white;padding-right: 0.2em;padding-left: 0.2em;position: relative;}#sk-container-id-1 div.sk-item {position: relative;z-index: 1;}#sk-container-id-1 div.sk-parallel {display: flex;align-items: stretch;justify-content: center;background-color: white;position: relative;}#sk-container-id-1 div.sk-item::before, #sk-container-id-1 div.sk-parallel-item::before {content: \"\";position: absolute;border-left: 1px solid gray;box-sizing: border-box;top: 0;bottom: 0;left: 50%;z-index: -1;}#sk-container-id-1 div.sk-parallel-item {display: flex;flex-direction: column;z-index: 1;position: relative;background-color: white;}#sk-container-id-1 div.sk-parallel-item:first-child::after {align-self: flex-end;width: 50%;}#sk-container-id-1 div.sk-parallel-item:last-child::after {align-self: flex-start;width: 50%;}#sk-container-id-1 div.sk-parallel-item:only-child::after {width: 0;}#sk-container-id-1 div.sk-dashed-wrapped {border: 1px dashed gray;margin: 0 0.4em 0.5em 0.4em;box-sizing: border-box;padding-bottom: 0.4em;background-color: white;}#sk-container-id-1 div.sk-label label {font-family: monospace;font-weight: bold;display: inline-block;line-height: 1.2em;}#sk-container-id-1 div.sk-label-container {text-align: center;}#sk-container-id-1 div.sk-container {/* jupyter's `normalize.less` sets `[hidden] { display: none; }` but bootstrap.min.css set `[hidden] { display: none !important; }` so we also need the `!important` here to be able to override the default hidden behavior on the sphinx rendered scikit-learn.org. See: https://github.com/scikit-learn/scikit-learn/issues/21755 */display: inline-block !important;position: relative;}#sk-container-id-1 div.sk-text-repr-fallback {display: none;}</style><div id=\"sk-container-id-1\" class=\"sk-top-container\"><div class=\"sk-text-repr-fallback\"><pre>XGBRegressor(base_score=None, booster=None, callbacks=None,\n",
       "             colsample_bylevel=None, colsample_bynode=None,\n",
       "             colsample_bytree=None, device=None, early_stopping_rounds=None,\n",
       "             enable_categorical=False, eval_metric=None, feature_types=None,\n",
       "             gamma=None, grow_policy=None, importance_type=None,\n",
       "             interaction_constraints=None, learning_rate=None, max_bin=None,\n",
       "             max_cat_threshold=None, max_cat_to_onehot=None,\n",
       "             max_delta_step=None, max_depth=None, max_leaves=None,\n",
       "             min_child_weight=None, missing=nan, monotone_constraints=None,\n",
       "             multi_strategy=None, n_estimators=None, n_jobs=None,\n",
       "             num_parallel_tree=None, random_state=0, ...)</pre><b>In a Jupyter environment, please rerun this cell to show the HTML representation or trust the notebook. <br />On GitHub, the HTML representation is unable to render, please try loading this page with nbviewer.org.</b></div><div class=\"sk-container\" hidden><div class=\"sk-item\"><div class=\"sk-estimator sk-toggleable\"><input class=\"sk-toggleable__control sk-hidden--visually\" id=\"sk-estimator-id-1\" type=\"checkbox\" checked><label for=\"sk-estimator-id-1\" class=\"sk-toggleable__label sk-toggleable__label-arrow\">XGBRegressor</label><div class=\"sk-toggleable__content\"><pre>XGBRegressor(base_score=None, booster=None, callbacks=None,\n",
       "             colsample_bylevel=None, colsample_bynode=None,\n",
       "             colsample_bytree=None, device=None, early_stopping_rounds=None,\n",
       "             enable_categorical=False, eval_metric=None, feature_types=None,\n",
       "             gamma=None, grow_policy=None, importance_type=None,\n",
       "             interaction_constraints=None, learning_rate=None, max_bin=None,\n",
       "             max_cat_threshold=None, max_cat_to_onehot=None,\n",
       "             max_delta_step=None, max_depth=None, max_leaves=None,\n",
       "             min_child_weight=None, missing=nan, monotone_constraints=None,\n",
       "             multi_strategy=None, n_estimators=None, n_jobs=None,\n",
       "             num_parallel_tree=None, random_state=0, ...)</pre></div></div></div></div></div>"
      ],
      "text/plain": [
       "XGBRegressor(base_score=None, booster=None, callbacks=None,\n",
       "             colsample_bylevel=None, colsample_bynode=None,\n",
       "             colsample_bytree=None, device=None, early_stopping_rounds=None,\n",
       "             enable_categorical=False, eval_metric=None, feature_types=None,\n",
       "             gamma=None, grow_policy=None, importance_type=None,\n",
       "             interaction_constraints=None, learning_rate=None, max_bin=None,\n",
       "             max_cat_threshold=None, max_cat_to_onehot=None,\n",
       "             max_delta_step=None, max_depth=None, max_leaves=None,\n",
       "             min_child_weight=None, missing=nan, monotone_constraints=None,\n",
       "             multi_strategy=None, n_estimators=None, n_jobs=None,\n",
       "             num_parallel_tree=None, random_state=0, ...)"
      ]
     },
     "execution_count": 11,
     "metadata": {},
     "output_type": "execute_result"
    }
   ],
   "source": [
    "\n",
    "from xgboost  import XGBRegressor\n",
    "\n",
    "# Definir el modelo\n",
    "my_model_1 = XGBRegressor(random_state = 0)\n",
    "\n",
    "# Ajustar el modelo\n",
    "my_model_1.fit(X_train, y_train)"
   ]
  },
  {
   "cell_type": "markdown",
   "metadata": {},
   "source": [
    "**Parte B**\n",
    "\n",
    "* Establecemos predictions_1 para las predicciones del modelo para los datos de validación.\n",
    "* Tener presente que las caracteristicas de validación estan en X_valid."
   ]
  },
  {
   "cell_type": "code",
   "execution_count": 13,
   "metadata": {},
   "outputs": [],
   "source": [
    "# Obtener predicciones\n",
    "predictions_1 = my_model_1.predict(X_valid)"
   ]
  },
  {
   "cell_type": "markdown",
   "metadata": {},
   "source": [
    "**Parte C**\n",
    "\n",
    "* Finalmente, se usa la función mean_absolute_error() para calcular el error absoluto medio (MAE) correspondiente a las predicciones para el conjunto de validación.\n",
    "* Recordamos que las etiquetas de los datos de validación se almacenan en y_valid."
   ]
  },
  {
   "cell_type": "code",
   "execution_count": 14,
   "metadata": {},
   "outputs": [
    {
     "name": "stdout",
     "output_type": "stream",
     "text": [
      "Mean Absolute Error: 18161.82412510702\n"
     ]
    }
   ],
   "source": [
    "# Calculo del MAE\n",
    "from sklearn.metrics import mean_absolute_error\n",
    "\n",
    "mae_1 = mean_absolute_error(predictions_1, y_valid)\n",
    "\n",
    "print(\"Mean Absolute Error:\" , mae_1)"
   ]
  },
  {
   "cell_type": "markdown",
   "metadata": {},
   "source": [
    "## Paso 2: mejorar el modelo\n",
    "* Ahora que ha entrenado un modelo predeterminado como punto de referencia, es hora de modificar los parámetros para ver si puede obtener un mejor rendimiento.\n",
    "* Comenzamos configurando **my_model_2** en un modelo XGBoost, usando la clase XGBRegressor.\n",
    "* Se hacen ajustes en **los parámetros predeterminados** (como **n_estimators y learning_rate**) para obtener mejores resultados.\n",
    "* Luego, **se ajusta el modelo** a los datos de entrenamiento en X_train e y_train.\n",
    "* Se establece **predictions_2** para las predicciones del modelo para los datos de validación. Recordando que las funciones de validación se almacenan en X_valid.\n",
    "* Finalmente, se usa la función mean_absolute_error() para calcular el error absoluto medio (MAE) correspondiente a las predicciones en el conjunto de validación.\n",
    "* Recordamos que las etiquetas de los datos de validación se almacenan en y_valid.\n",
    "* El objetivo es obtener un valor MAE menor que el del paso 1."
   ]
  },
  {
   "cell_type": "code",
   "execution_count": 15,
   "metadata": {},
   "outputs": [
    {
     "name": "stdout",
     "output_type": "stream",
     "text": [
      "Mean Absolute Error: 17032.769063035103\n"
     ]
    }
   ],
   "source": [
    "# Definir el modelo\n",
    "my_model_2 = XGBRegressor(n_estimators=400, # Se utiliza = 400. Resultados anteriores de validación cruzada en get_score() para seleccionar parámetros para un modelo de aprendizaje automático.\n",
    "                          learning_rate=0.05,\n",
    "                          n_jobs=4,\n",
    "                          early_stopping_rounds=5)\n",
    "\n",
    "# Ajustar el modelo\n",
    "my_model_2.fit(X_train, y_train,\n",
    "             eval_set=[(X_valid, y_valid)],\n",
    "             verbose=False)\n",
    "\n",
    "# Obtener predicciones\n",
    "predictions_2 = my_model_2.predict(X_valid)\n",
    "\n",
    "# Calcular el  MAE\n",
    "mae_2 = mean_absolute_error(predictions_2, y_valid)\n",
    "\n",
    "print(\"Mean Absolute Error:\" , mae_2)"
   ]
  },
  {
   "cell_type": "markdown",
   "metadata": {},
   "source": [
    "## Preprocesamiento de datos de prueba. X_test"
   ]
  },
  {
   "cell_type": "code",
   "execution_count": 16,
   "metadata": {},
   "outputs": [
    {
     "data": {
      "text/plain": [
       "array([123488.07, 151031.94, 179847.53, ..., 164754.22, 112069.91,\n",
       "       218776.7 ], dtype=float32)"
      ]
     },
     "execution_count": 16,
     "metadata": {},
     "output_type": "execute_result"
    }
   ],
   "source": [
    "# Preprocesamiento de datos de prueba, modelo de ajuste\n",
    "preds_test = my_model_2.predict(X_test)\n",
    "preds_test"
   ]
  },
  {
   "cell_type": "code",
   "execution_count": 17,
   "metadata": {},
   "outputs": [],
   "source": [
    "# Guardar predicciones en un archivo\n",
    "output = pd.DataFrame({'Id': X_test.index,\n",
    "                       'SalePrice': preds_test})\n",
    "output.to_csv('submission.csv', index=False)"
   ]
  }
 ],
 "metadata": {
  "kernelspec": {
   "display_name": "base",
   "language": "python",
   "name": "python3"
  },
  "language_info": {
   "codemirror_mode": {
    "name": "ipython",
    "version": 3
   },
   "file_extension": ".py",
   "mimetype": "text/x-python",
   "name": "python",
   "nbconvert_exporter": "python",
   "pygments_lexer": "ipython3",
   "version": "3.8.5"
  }
 },
 "nbformat": 4,
 "nbformat_minor": 2
}
